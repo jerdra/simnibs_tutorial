{
 "cells": [
  {
   "cell_type": "code",
   "execution_count": null,
   "metadata": {},
   "outputs": [],
   "source": [
    "from simnibs import sim_struct, run_simnibs\n",
    "import nilearn.image as img\n",
    "import nilearn.plotting as niplot\n",
    "import os\n",
    "import numpy as np\n",
    "from numpy import degrees, arcsin, arctan2, deg2rad, cos, sin"
   ]
  },
  {
   "cell_type": "markdown",
   "metadata": {},
   "source": [
    "# SimNIBS Hot Tips\n",
    "\n",
    "Data for this notebook can be found in:\n",
    "\n",
    "```\n",
    "/projects/jjeyachandra/simnibs_tutorial/data\n",
    "```\n",
    "\n",
    "Feel free to symlink or copy for your own personal use (it's my brain...)"
   ]
  },
  {
   "cell_type": "markdown",
   "metadata": {},
   "source": [
    "## A Basic Run of SimNIBS\n",
    "\n",
    "Ripped from their tutorial"
   ]
  },
  {
   "cell_type": "code",
   "execution_count": null,
   "metadata": {},
   "outputs": [],
   "source": [
    "# Initialize session\n",
    "s = sim_struct.SESSION()\n",
    "s.fnamehead = \"../data/sub-CMHP001.msh\"\n",
    "s.pathfem = \"../output\""
   ]
  },
  {
   "cell_type": "markdown",
   "metadata": {},
   "source": [
    "Check the list of available coils to use"
   ]
  },
  {
   "cell_type": "code",
   "execution_count": null,
   "metadata": {},
   "outputs": [],
   "source": [
    "from simnibs import SIMNIBSDIR\n",
    "os.listdir(os.path.join(SIMNIBSDIR,'ccd-files'))"
   ]
  },
  {
   "cell_type": "code",
   "execution_count": null,
   "metadata": {},
   "outputs": [],
   "source": [
    "# Set TMS position list\n",
    "tmslist = s.add_tmslist()\n",
    "tmslist.fnamecoil = \"Magstim_70mm_Fig8.nii.gz\""
   ]
  },
  {
   "cell_type": "code",
   "execution_count": null,
   "metadata": {},
   "outputs": [],
   "source": [
    "# Add a position to the position list\n",
    "pos = tmslist.add_position()\n",
    "pos.centre = 'C1'\n",
    "pos.pos_ydir = 'CP1'"
   ]
  },
  {
   "cell_type": "code",
   "execution_count": null,
   "metadata": {},
   "outputs": [],
   "source": [
    "# Options for mapping\n",
    "s.map_to_fsavg = True\n",
    "s.map_to_MNI = True\n",
    "\n",
    "## Will only work with CAT12\n",
    "s.map_to_surf = False"
   ]
  },
  {
   "cell_type": "code",
   "execution_count": null,
   "metadata": {},
   "outputs": [],
   "source": [
    "run_simnibs(s)"
   ]
  },
  {
   "cell_type": "markdown",
   "metadata": {},
   "source": [
    "##  MNI Coordinate Projection"
   ]
  },
  {
   "cell_type": "markdown",
   "metadata": {},
   "source": [
    "MNI coordinates can be transformed into subject space pretty easily with a SimNIBS command-line tool called `mni2subject_coords`.\n",
    "\n",
    "Here's an example for left DLPFC (-30, 43, 23)"
   ]
  },
  {
   "cell_type": "code",
   "execution_count": null,
   "metadata": {},
   "outputs": [],
   "source": [
    "!mni2subject_coords -m /projects/jjeyachandra/simnibs_tutorial/data/m2m_sub-CMHP001/ \\\n",
    "    -c \"-30\" \"43\" \"23\" \\\n",
    "    -t nonl"
   ]
  },
  {
   "cell_type": "markdown",
   "metadata": {},
   "source": [
    "Alternatively this can be done directly using the Python API"
   ]
  },
  {
   "cell_type": "code",
   "execution_count": null,
   "metadata": {},
   "outputs": [],
   "source": [
    "import simnibs.msh.transformations as transformations"
   ]
  },
  {
   "cell_type": "code",
   "execution_count": null,
   "metadata": {},
   "outputs": [],
   "source": [
    "m2m_dir = \"../data/m2m_sub-CMHP001/\"\n",
    "coords = [-30, 43, 23]\n",
    "xfm_res = transformations.warp_coordinates(\n",
    "    coordinates=coords,m2m_folder=m2m_dir,\n",
    "    transformation_direction='mni2subject')\n",
    "print(xfm_res)"
   ]
  },
  {
   "cell_type": "markdown",
   "metadata": {},
   "source": [
    "The coordinates that we used were brain coordinates, so these need to be projected onto the subject scalp. \n",
    "\n",
    "In addition, even _MNI TMS Coordinates_ need to be projected onto the scalp. Otherwise the imperfect MNI coordiante may result in a TMS coil embedded within the subject skull or floating above the subject's head.\n",
    "\n",
    "This can also be achieved via the `transformations` API."
   ]
  },
  {
   "cell_type": "markdown",
   "metadata": {},
   "source": [
    "First we need to read in the mesh file which contains the scalp geometry:"
   ]
  },
  {
   "cell_type": "code",
   "execution_count": null,
   "metadata": {},
   "outputs": [],
   "source": [
    "from simnibs.msh import mesh_io"
   ]
  },
  {
   "cell_type": "code",
   "execution_count": null,
   "metadata": {},
   "outputs": [],
   "source": [
    "mesh = mesh_io.read_msh('../data/sub-CMHP001.msh')"
   ]
  },
  {
   "cell_type": "code",
   "execution_count": null,
   "metadata": {},
   "outputs": [],
   "source": [
    "subject_ldlpfc = xfm_res[1]\n",
    "subject_dlpfc_scalp = transformations.project_on_scalp(\n",
    "    coords = subject_ldlpfc,\n",
    "    mesh=mesh,\n",
    "    distance=1\n",
    ")\n",
    "print(subject_dlpfc_scalp)"
   ]
  },
  {
   "cell_type": "code",
   "execution_count": null,
   "metadata": {},
   "outputs": [],
   "source": [
    "t1 = img.load_img('../data/m2m_sub-CMHP001/T1fs_nu_conform.nii.gz')"
   ]
  },
  {
   "cell_type": "markdown",
   "metadata": {},
   "source": [
    "Original coordinates"
   ]
  },
  {
   "cell_type": "code",
   "execution_count": null,
   "metadata": {},
   "outputs": [],
   "source": [
    "niplot.plot_anat(t1,\n",
    "                cut_coords=subject_ldlpfc[0])"
   ]
  },
  {
   "cell_type": "markdown",
   "metadata": {},
   "source": [
    "Projected onto the scalp"
   ]
  },
  {
   "cell_type": "code",
   "execution_count": null,
   "metadata": {},
   "outputs": [],
   "source": [
    "niplot.plot_anat(t1,\n",
    "                cut_coords=subject_dlpfc_scalp[0])"
   ]
  },
  {
   "cell_type": "markdown",
   "metadata": {},
   "source": [
    "## Defining an orientation"
   ]
  },
  {
   "cell_type": "markdown",
   "metadata": {},
   "source": [
    "To define an orientation we use the BrainSight convention in which:\n",
    "\n",
    "1. 0 degrees is defined as pointing anteriorly\n",
    "2. 180 degrees is defined as pointing posteriorly\n",
    "3. (+) rotations rotate counter-clockwise\n",
    "4. (-) rotations rotate clockwise\n",
    "\n",
    "If we wanted to:\n",
    "\n",
    "1. Target left DLPFC\n",
    "2. Have the coil pointing posteriorly \n",
    "3. Angle *away from the midline* at 45 degrees\n",
    "\n",
    "We'd calculate our final desired \"Brainsight angle\" as:\n",
    "\n",
    "1. Start with 180 degrees to point the handle posteriorly\n",
    "2. Subtract (rotate clockwise) by 45 degrees\n",
    "3. The BrainSight twist parameter is therefore **155 degrees**\n",
    "\n",
    "Next, all we need is the scalp normal which will allow us to position the coil such that the coil is flat against the scalp."
   ]
  },
  {
   "cell_type": "markdown",
   "metadata": {},
   "source": [
    "**Step 1: Compute the normal of the scalp right under-neath the coil**"
   ]
  },
  {
   "cell_type": "code",
   "execution_count": null,
   "metadata": {},
   "outputs": [],
   "source": [
    "closest_node, node_index = mesh.nodes.find_closest_node([subject_dlpfc_scalp],\n",
    "                                           return_index=True)\n",
    "print(closest_node, node_index)\n",
    "\n",
    "# Extract from list of list\n",
    "node_index = node_index[0][0]"
   ]
  },
  {
   "cell_type": "code",
   "execution_count": null,
   "metadata": {},
   "outputs": [],
   "source": [
    "node_normal = mesh.nodes_normals(smooth=2).value[node_index]\n",
    "print(node_normal)"
   ]
  },
  {
   "cell_type": "markdown",
   "metadata": {},
   "source": [
    "**Step 2: With this we can figure out the rest of the simulation matrix**"
   ]
  },
  {
   "cell_type": "markdown",
   "metadata": {},
   "source": [
    "The function below takes the following:\n",
    "\n",
    "1. a normal vector that we computed earlier\n",
    "2. the \"BrainSight twist\" parameter in degrees\n",
    "3. The coil centre position\n",
    "\n",
    "And returns to you a matsimnibs matrix that can be directly used by simnibs"
   ]
  },
  {
   "cell_type": "code",
   "execution_count": null,
   "metadata": {},
   "outputs": [],
   "source": [
    "def get_matsimnibs(n,twist,centre):\n",
    "    \n",
    "    # Compute euler angles\n",
    "    alpha = arctan2(-n[1],n[2])\n",
    "    beta = arcsin(n[0])\n",
    "    gamma = deg2rad(twist)\n",
    "    \n",
    "    # Define rotation matrices for XYZ variant of \n",
    "    # tait-bryan rotation matrices \n",
    "    R_ap = np.array([\n",
    "        [1, 0, 0],\n",
    "        [0, cos(alpha), -sin(alpha)],\n",
    "        [0, sin(alpha), cos(alpha)]\n",
    "    ])\n",
    "    \n",
    "    R_lr = np.array([\n",
    "        [cos(beta), 0, sin(beta)],\n",
    "        [0, 1, 0],\n",
    "        [-sin(beta), 0, cos(beta)]\n",
    "    ])\n",
    "    \n",
    "    R_tw = np.array([\n",
    "        [cos(gamma), -sin(gamma), 0],\n",
    "        [sin(gamma), cos(gamma), 0],\n",
    "        [0, 0, 1]\n",
    "    ])\n",
    "    \n",
    "    # Get full rotation matrix of coil onto scalp plane\n",
    "    # @ is matrix multiplication\n",
    "    R = R_ap @ R_lr @ R_tw\n",
    "    \n",
    "    # Invert normal and X to maintain right-handedness\n",
    "    R[:3,1] = -R[:3,1]\n",
    "    R[:3,2] = -R[:3,2]\n",
    "  \n",
    "    # Construct matsimnibs\n",
    "    msn = np.zeros((4,4))\n",
    "    msn[:3,:3] = R\n",
    "    msn[:3,3] = centre\n",
    "    \n",
    "    return msn"
   ]
  },
  {
   "cell_type": "code",
   "execution_count": null,
   "metadata": {},
   "outputs": [],
   "source": [
    "# Get 45 degree matsimnibs matrix over DLPFC\n",
    "deg_45_msn = get_matsimnibs(node_normal,twist=155,c=subject_dlpfc_scalp)"
   ]
  },
  {
   "cell_type": "code",
   "execution_count": null,
   "metadata": {},
   "outputs": [],
   "source": [
    "# Now run a simulation with our matsimnibs matrix\n",
    "s = sim_struct.SESSION()\n",
    "s.fnamehead = \"../data/sub-CMHP001.msh\"\n",
    "s.pathfem = \"../output/new_sim\"\n",
    "s.map_to_fsavg = True\n",
    "s.map_to_MNI = True\n",
    "tmslist = s.add_tmslist()\n",
    "tmslist.fnamecoil = \"MagVenture_MC_B70.nii.gz\"\n",
    "pos = tmslist.add_position()\n",
    "pos.matsimnibs = deg_45_msn"
   ]
  },
  {
   "cell_type": "code",
   "execution_count": null,
   "metadata": {},
   "outputs": [],
   "source": [
    "run_simnibs(s)"
   ]
  }
 ],
 "metadata": {
  "kernelspec": {
   "display_name": "Python 3",
   "language": "python",
   "name": "python3"
  },
  "language_info": {
   "codemirror_mode": {
    "name": "ipython",
    "version": 3
   },
   "file_extension": ".py",
   "mimetype": "text/x-python",
   "name": "python",
   "nbconvert_exporter": "python",
   "pygments_lexer": "ipython3",
   "version": "3.7.0"
  }
 },
 "nbformat": 4,
 "nbformat_minor": 4
}
