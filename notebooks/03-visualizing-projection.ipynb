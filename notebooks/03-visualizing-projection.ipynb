{
 "cells": [
  {
   "cell_type": "markdown",
   "id": "friendly-hawaiian",
   "metadata": {},
   "source": [
    "Installing `meshplot`:\n",
    "\n",
    "```\n",
    "pip install pythreejs\n",
    "pip install git+https://github.com/skoch9/meshplot.git\n",
    "```"
   ]
  },
  {
   "cell_type": "markdown",
   "id": "olive-patent",
   "metadata": {},
   "source": []
  },
  {
   "cell_type": "code",
   "execution_count": 1,
   "id": "tough-seafood",
   "metadata": {
    "scrolled": true
   },
   "outputs": [],
   "source": [
    "import meshplot as mp\n",
    "import numpy as np\n",
    "from collections import namedtuple\n",
    "import gmsh"
   ]
  },
  {
   "cell_type": "code",
   "execution_count": 2,
   "id": "ready-brain",
   "metadata": {},
   "outputs": [],
   "source": [
    "def load_gmsh_nodes(gmshpath, entity):\n",
    "    '''\n",
    "    Given a fullpath to some .msh file\n",
    "    load in the mesh nodes IDs, triangles and coordinates.\n",
    "    gmshpath -- path to gmsh file\n",
    "    dimtag   -- tuple specifying the (dimensionality,tagID) being loaded\n",
    "    If entity=(dim,tag) not provided then pull the first entity and return\n",
    "    '''\n",
    "\n",
    "    gmsh.initialize()\n",
    "    gmsh.open(gmshpath)\n",
    "    nodes, coords, params = gmsh.model.mesh.getNodes(entity[0], entity[1])\n",
    "    coords = np.array(coords).reshape((len(coords) // 3, 3))\n",
    "    gmsh.clear()\n",
    "\n",
    "    return nodes - 1, coords, params\n"
   ]
  },
  {
   "cell_type": "code",
   "execution_count": 3,
   "id": "valued-national",
   "metadata": {},
   "outputs": [],
   "source": [
    "def load_gmsh_elems(gmshpath, entity):\n",
    "    '''\n",
    "    Wrapper function for loading gmsh elements\n",
    "    '''\n",
    "\n",
    "    gmsh.initialize()\n",
    "    gmsh.open(gmshpath)\n",
    "    nodes, elem_ids, node_maps = gmsh.model.mesh.getElements(\n",
    "        entity[0], entity[1])\n",
    "    gmsh.clear()\n",
    "\n",
    "    return nodes, elem_ids[0] - 1, node_maps[0] - 1"
   ]
  },
  {
   "cell_type": "code",
   "execution_count": 4,
   "id": "square-sucking",
   "metadata": {},
   "outputs": [],
   "source": [
    "def load_surf_verts(f_msh, entities):\n",
    "    '''\n",
    "    surf:       Path to gmsh MSH file\n",
    "    entities:   List of entities to attempt of form (dim, tag)\n",
    "    '''\n",
    "\n",
    "    for dim, tag in entities:\n",
    "\n",
    "        try:\n",
    "            nodes, coords, params = load_gmsh_nodes(f_msh, (dim, tag))\n",
    "        except ValueError:\n",
    "            continue\n",
    "        else:\n",
    "            return nodes, coords, params\n",
    "\n",
    "    logging.error(\"Could not properly load Mesh! Check entity tags!\")\n",
    "    raise ValueError"
   ]
  },
  {
   "cell_type": "code",
   "execution_count": 5,
   "id": "supposed-sodium",
   "metadata": {},
   "outputs": [],
   "source": [
    "def load_surf_trigs(f_msh, entities):\n",
    "    '''\n",
    "    surf:       Path to gmsh MSH file\n",
    "    entities:   List of entities to attempt of form (dim, tag)\n",
    "    '''\n",
    "\n",
    "    for dim, tag in entities:\n",
    "\n",
    "        try:\n",
    "            _, _, trigs = load_gmsh_elems(f_msh, (dim, tag))\n",
    "        except ValueError:\n",
    "            continue\n",
    "        else:\n",
    "            return trigs.reshape(-1, 3)\n",
    "\n",
    "    logging.error(\"Could not properly load Mesh! Check entity tags!\")\n",
    "    raise ValueError"
   ]
  },
  {
   "cell_type": "code",
   "execution_count": 6,
   "id": "accessible-express",
   "metadata": {},
   "outputs": [],
   "source": [
    "def decompose_gmsh(f_mesh, entity):\n",
    "    '''\n",
    "    Given a path to a mesh file load the:\n",
    "        nodes\n",
    "        coordinates\n",
    "        triangles\n",
    "    For the specified surface.\n",
    "    Arguments:\n",
    "        f_mesh          Path to GMSH mesh file\n",
    "        entity          Tuple describing gmsh (dim, tag)\n",
    "    '''\n",
    "\n",
    "    # Load vertex data\n",
    "    nodes, coords, _ = load_surf_verts(f_mesh, entity)\n",
    "    trigs = load_surf_trigs(f_mesh, entity)\n",
    "\n",
    "    # Re-normalize node/trig identities\n",
    "    trigs = trigs - nodes.min()\n",
    "    nodes = nodes - nodes.min()\n",
    "    return SurfaceMesh(nodes, coords, trigs)\n"
   ]
  },
  {
   "cell_type": "code",
   "execution_count": 24,
   "id": "foreign-apollo",
   "metadata": {},
   "outputs": [],
   "source": [
    "mp.website()\n",
    "def gen_mshplot_html(brain, head, line, out_html):\n",
    "    '''\n",
    "    Generate a visualization of the centroid to head projection problem\n",
    "    Arguments:\n",
    "       brain:           SurfaceMesh of brain\n",
    "       head:            SurfaceMesh of head\n",
    "       texture:         Texture to apply to brain\n",
    "       line:            DistResult object for line to visualize projection\n",
    "    '''\n",
    "\n",
    "    p = mp.plot(brain.coords, brain.triangles)\n",
    "\n",
    "    p.add_mesh(head.coords, head.triangles, c=np.array([0.7, 0.7, 0.7]))\n",
    "    p._Viewer__objects[1]['material'].transparent = True\n",
    "    p._Viewer__objects[1]['material'].opacity = 0.5\n",
    "    p._Viewer__objects[1]['material'].metalness = 0.1\n",
    "\n",
    "    source_line = np.array([line.source])\n",
    "    target_line = np.array([line.target])\n",
    "    p.add_lines(source_line,\n",
    "                target_line,\n",
    "                shading={\n",
    "                    \"line_width\": 20,\n",
    "                    \"line_color\": \"black\"\n",
    "                })\n",
    "\n",
    "    p.save(out_html)"
   ]
  },
  {
   "cell_type": "code",
   "execution_count": 17,
   "id": "automated-nudist",
   "metadata": {},
   "outputs": [],
   "source": [
    "HEAD_ENTITIES = [(2, 1005)]\n",
    "GM_ENTITIES = [(2, 1002)]\n",
    "SurfaceMesh = namedtuple(\"SurfaceMesh\", [\"nodes\", \"coords\", \"triangles\"])\n",
    "Line = namedtuple(\"Line\", [\"source\",\"target\"])"
   ]
  },
  {
   "cell_type": "code",
   "execution_count": 20,
   "id": "settled-coordination",
   "metadata": {},
   "outputs": [],
   "source": [
    "f_msh = '../output/msn__1-0001_MagVenture_MC_B70.nii_scalar.msh'\n",
    "dlpfc_scalp = np.array([-44.440907, 42.625675,  72.085838])\n",
    "dlpfc_brain = np.array([-36.5493246,  37.43826707, 65.7456537 ])"
   ]
  },
  {
   "cell_type": "code",
   "execution_count": 21,
   "id": "severe-binding",
   "metadata": {},
   "outputs": [],
   "source": [
    "head = decompose_gmsh(f_msh, HEAD_ENTITIES)\n",
    "brain = decompose_gmsh(f_msh, GM_ENTITIES)\n",
    "line = Line(dlpfc_scalp, dlpfc_brain)"
   ]
  },
  {
   "cell_type": "code",
   "execution_count": 26,
   "id": "fourth-directive",
   "metadata": {},
   "outputs": [
    {
     "name": "stdout",
     "output_type": "stream",
     "text": [
      "Plot saved to file test.html.\n"
     ]
    }
   ],
   "source": [
    "gen_mshplot_html(brain, head, line, \"test.html\")"
   ]
  },
  {
   "cell_type": "code",
   "execution_count": null,
   "id": "identified-department",
   "metadata": {},
   "outputs": [],
   "source": []
  }
 ],
 "metadata": {
  "kernelspec": {
   "display_name": "Python 3",
   "language": "python",
   "name": "python3"
  },
  "language_info": {
   "codemirror_mode": {
    "name": "ipython",
    "version": 3
   },
   "file_extension": ".py",
   "mimetype": "text/x-python",
   "name": "python",
   "nbconvert_exporter": "python",
   "pygments_lexer": "ipython3",
   "version": "3.7.0"
  }
 },
 "nbformat": 4,
 "nbformat_minor": 5
}
